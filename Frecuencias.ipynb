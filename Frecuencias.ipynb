{
 "cells": [
  {
   "cell_type": "code",
   "execution_count": 9,
   "metadata": {},
   "outputs": [
    {
     "name": "stdout",
     "output_type": "stream",
     "text": [
      "El carácter 'b' aparece 10 veces, de 63\n",
      "El carácter 'a' aparece 15 veces, de 63\n",
      "El carácter 'e' aparece 11 veces, de 63\n",
      "El carácter 'd' aparece 11 veces, de 63\n",
      "El carácter 'c' aparece 16 veces, de 63\n"
     ]
    }
   ],
   "source": [
    "def contar_caracteres(texto):\n",
    "    # Caracteres a contar\n",
    "    caracteres = {'a', 'b', 'c', 'd', 'e'}\n",
    "    # Diccionario para almacenar los conteos\n",
    "    conteos = {caracter: 0 for caracter in caracteres}\n",
    "\n",
    "    # Contar cada caracter\n",
    "    for char in texto:\n",
    "        if char in caracteres:\n",
    "            conteos[char] += 1\n",
    "\n",
    "    return conteos\n",
    "\n",
    "# Ejemplo de uso\n",
    "texto = \"aabbcccaadeeeaabcaadcdabbedcccededecacaeeddccccdcdceabbaaabedbb\"\n",
    "resultado = contar_caracteres(texto)\n",
    "\n",
    "# Mostrar los resultados\n",
    "for caracter, conteo in resultado.items():\n",
    "    print(f\"El carácter '{caracter}' aparece {conteo} veces, de {len(texto)}\" ) \n"
   ]
  }
 ],
 "metadata": {
  "kernelspec": {
   "display_name": "base",
   "language": "python",
   "name": "python3"
  },
  "language_info": {
   "codemirror_mode": {
    "name": "ipython",
    "version": 3
   },
   "file_extension": ".py",
   "mimetype": "text/x-python",
   "name": "python",
   "nbconvert_exporter": "python",
   "pygments_lexer": "ipython3",
   "version": "3.12.2"
  }
 },
 "nbformat": 4,
 "nbformat_minor": 2
}
